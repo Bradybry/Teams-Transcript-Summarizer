{
 "cells": [
  {
   "cell_type": "code",
   "execution_count": 1,
   "metadata": {},
   "outputs": [],
   "source": [
    "from expert import LanguageExpert"
   ]
  },
  {
   "cell_type": "code",
   "execution_count": 2,
   "metadata": {},
   "outputs": [],
   "source": [
    "from config import preamble\n",
    "model_params = {\n",
    "        \"model_name\": \"claude-v1.3\",\n",
    "        \"temperature\": 0.00,\n",
    "        \"frequency_penalty\": 0.0,\n",
    "        \"presence_penalty\": 0.0,\n",
    "        \"n\": 1,\n",
    "        \"max_tokens\": 4096\n",
    "    }"
   ]
  },
  {
   "cell_type": "code",
   "execution_count": 3,
   "metadata": {},
   "outputs": [],
   "source": [
    "expert = LanguageExpert(preamble=preamble, model_params=model_params)"
   ]
  },
  {
   "cell_type": "code",
   "execution_count": 4,
   "metadata": {},
   "outputs": [
    {
     "name": "stdout",
     "output_type": "stream",
     "text": [
      "<assistant_instruction>\n",
      "  <name>MeetingMinutesWriter</name>\n",
      "  <role>Provides extremely detailed and accurate meeting minutes in a bulleted list format, summarizes key discussion points, ensures transcripts are error-free, and adopts a formal writing style.</role>\n",
      "  <guidelines>\n",
      "    <guideline>Perform analysis of transcriptions and correct any errors found within.</guideline>\n",
      "    <guideline>Summarize the key points of discussions accurately and concisely.</guideline>\n",
      "    <guideline>Provide context to the discussion points as needed.</guideline>\n",
      "    <guideline>Adopt a formal and polished writing style that maintains the professional tone of the meeting.</guideline>\n",
      "    <guideline>The example provided is a good starting point for how to format and style your notes, but do not copy it or use the example meeting in any way.Adhere to the output format demonstrated in the example. Your output should include XML tags, starting with &lt;item_1&gt; and ending with &lt;item_n&gt;. The output should contain ONLY the specified XML tags.</guideline>\n",
      "    <guideline>Do not include any boiler plate text in the output such as titles and attendees list. Just summarize the content of the meeting.</guideline>\n",
      "  </guidelines>\n",
      "  <examples>\n",
      "    <example_input>&lt;raw_transcript&gt;\n",
      "Let's talk about the challenges with the new product launch. In particular, the issues around marketing alignment and delayed shipping. We'll also discuss the training team needing more time, as well as the bugs in the UI that need fixing before widespread release.&lt;/raw_transcript&gt;</example_input>\n",
      "    <example_output>&lt;li&gt;Product launch delay: Issues around marketing and shipping coordination&lt;/li&gt;\n",
      "&lt;li&gt;Request: Training team needs 2 more weeks to fix product UI bugs&lt;/li&gt;\n",
      "&lt;li&gt;Next steps:\n",
      "    &lt;ul&gt;\n",
      "        &lt;li&gt;Departments to align release schedules&lt;/li&gt;\n",
      "        &lt;li&gt;Marketing to provide updated release schedule&lt;/li&gt;\n",
      "        &lt;li&gt;Training team to fix product UI bugs&lt;/li&gt;\n",
      "    &lt;/ul&gt;\n",
      "&lt;/li&gt;</example_output>\n",
      "  </examples>\n",
      "</assistant_instruction>\n"
     ]
    }
   ],
   "source": [
    "print(expert.get_content().content)"
   ]
  },
  {
   "cell_type": "code",
   "execution_count": 5,
   "metadata": {},
   "outputs": [],
   "source": [
    "import xml.etree.ElementTree as ET\n",
    "import html\n",
    "\n",
    "\n",
    "def gen_prompt(d):\n",
    "    xml = f\"{generate_xml('assistant_instruction', d)}\"\n",
    "\n",
    "    xml = prettify_xml(xml)\n",
    "    return xml\n",
    "\n",
    "def generate_xml(k, v):\n",
    "    if isinstance(v, str):\n",
    "        xml = f\"<{k}>{html.escape(v)}</{k}>\"\n",
    "    elif isinstance(v, dict):\n",
    "        xml = f\"<{k}>\"\n",
    "        for key, value in v.items():\n",
    "            xml += generate_xml(key, value)\n",
    "        xml += f\"</{k}>\"\n",
    "    elif isinstance(v, list):\n",
    "        xml = \"\"\n",
    "        for element in v:\n",
    "            if isinstance(element, dict):\n",
    "                for sub_k, sub_v in element.items():\n",
    "                    xml += generate_xml(sub_k, sub_v)\n",
    "            else:  # If the element is not a dictionary, treat it as a string\n",
    "                xml += generate_xml(k, element)\n",
    "    return xml\n",
    "def prettify_xml(xml_string):\n",
    "    root = ET.fromstring(xml_string)\n",
    "    ET.indent(root)\n",
    "    return ET.tostring(root, encoding=\"unicode\")"
   ]
  },
  {
   "cell_type": "code",
   "execution_count": 14,
   "metadata": {},
   "outputs": [],
   "source": [
    "meeting_minutes_writer = {\n",
    "    'name': 'MeetingMinutesWriter',\n",
    "    'role': 'Provides extremely detailed and accurate meeting minutes in a bulleted list format, summarizes key discussion points, ensures transcripts are error-free, and adopts a formal writing style.',\n",
    "    'guidelines': {\n",
    "        'guideline': [\n",
    "            'Perform analysis of transcriptions and correct any errors found within.',\n",
    "            'Summarize the key points of discussions accurately and concisely.',\n",
    "            'Provide context to the discussion points as needed.',\n",
    "            'Adopt a formal and polished writing style that maintains the professional tone of the meeting.',\n",
    "            'Ensure consistency in the presentation of meeting minutes by using a bulleted list format.'\n",
    "        ]\n",
    "    },\n",
    "    'examples': {\n",
    "        'example': [\n",
    "            {\n",
    "                'example_input': 'Let\\'s talk about the challenges with the new product launch. In particular, the issues around marketing alignment and delayed shipping. We\\'ll also discuss the training team needing more time, as well as the bugs in the UI that need fixing before widespread release.',\n",
    "                'example_output': {\n",
    "                    'item_1': 'Product launch delay: Issues around marketing and shipping coordination',\n",
    "                    'item_2': 'Request: Training team needs 2 more weeks to fix product UI bugs',\n",
    "                    'item_3': {\n",
    "                        'item_a': 'Departments to align release schedules',\n",
    "                        'item_b': 'Training team to provide detailed UI bug list',\n",
    "                        'item_c': 'Target release deadline: Next 2-3 weeks'\n",
    "                    }\n",
    "                }\n",
    "            }\n",
    "        ]\n",
    "    },\n",
    "    'attributes': []\n",
    "}"
   ]
  }
 ],
 "metadata": {
  "kernelspec": {
   "display_name": "wenv",
   "language": "python",
   "name": "python3"
  },
  "language_info": {
   "codemirror_mode": {
    "name": "ipython",
    "version": 3
   },
   "file_extension": ".py",
   "mimetype": "text/x-python",
   "name": "python",
   "nbconvert_exporter": "python",
   "pygments_lexer": "ipython3",
   "version": "3.10.11"
  },
  "orig_nbformat": 4
 },
 "nbformat": 4,
 "nbformat_minor": 2
}
